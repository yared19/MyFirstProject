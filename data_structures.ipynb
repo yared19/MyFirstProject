{
 "cells": [
  {
   "cell_type": "code",
   "execution_count": 1,
   "metadata": {},
   "outputs": [
    {
     "name": "stdout",
     "output_type": "stream",
     "text": [
      "First transaction: 200\n",
      "Last transaction: -10\n"
     ]
    }
   ],
   "source": [
    "# Initializing a list of transactions\n",
    "transactions = [200,-50, 100,-20, 300] # positive for\n",
    "#deposits, negative for withdrawals\n",
    " # Adding a new transaction\n",
    "transactions.append(-10)\n",
    " # Removing a transaction (first instance of-50)\n",
    "transactions.remove(-50)\n",
    " # Accessing transactions\n",
    "print(\"First transaction:\", transactions[0]) # 200\n",
    "print(\"Last transaction:\", transactions[-1]) #-10"
   ]
  },
  {
   "cell_type": "code",
   "execution_count": null,
   "metadata": {},
   "outputs": [],
   "source": []
  }
 ],
 "metadata": {
  "kernelspec": {
   "display_name": "Python 3",
   "language": "python",
   "name": "python3"
  },
  "language_info": {
   "codemirror_mode": {
    "name": "ipython",
    "version": 3
   },
   "file_extension": ".py",
   "mimetype": "text/x-python",
   "name": "python",
   "nbconvert_exporter": "python",
   "pygments_lexer": "ipython3",
   "version": "3.12.4"
  }
 },
 "nbformat": 4,
 "nbformat_minor": 2
}

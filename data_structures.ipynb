{
 "cells": [
  {
   "cell_type": "code",
   "execution_count": 2,
   "metadata": {},
   "outputs": [
    {
     "name": "stdout",
     "output_type": "stream",
     "text": [
      "The first fruit is : apple\n",
      "The last fruit is : orange\n"
     ]
    }
   ],
   "source": [
    " # Creating a list\n",
    "fruits = [\"apple\", \"banana\", \"cherry\"]\n",
    " # Adding elements\n",
    "fruits.append(\"orange\")  # Adds \"orange\" to the end of the list\n",
    " # Adds \"orange\" to the end of the\n",
    "fruits.insert(1, \"kiwi\") # Inserts \"kiwi\" at index 1\n",
    "# Accessing elements\n",
    "first_fruit = fruits[0] # \"apple\"\n",
    "last_fruit = fruits[-1] # \"cherry\" (negative indexing)\n",
    "\n",
    "print(\"The first fruit is :\",first_fruit)\n",
    "print(\"The last fruit is :\",last_fruit)"
   ]
  },
  {
   "cell_type": "code",
   "execution_count": 6,
   "metadata": {},
   "outputs": [
    {
     "name": "stdout",
     "output_type": "stream",
     "text": [
      "[0, 4, 16, 36, 64, 100, 144, 196, 256, 324]\n"
     ]
    }
   ],
   "source": [
    "#list comprehensions\n",
    "squares = [x**2 for x in range(20) if x%2==0]\n",
    "print(squares)\n",
    " # Output: [0, 1, 4, 9, 16, 25, 36, 49, 64, 81]"
   ]
  },
  {
   "cell_type": "code",
   "execution_count": 7,
   "metadata": {},
   "outputs": [
    {
     "name": "stdout",
     "output_type": "stream",
     "text": [
      "['HELLO', 'WORLD', 'PYTHON']\n"
     ]
    }
   ],
   "source": [
    "words = [\"hello\", \"world\", \"python\"]\n",
    "uppercased = [word.upper() for word in words]\n",
    " # Output: ['HELLO', 'WORLD', 'PYTHON']\n",
    "print(uppercased)"
   ]
  },
  {
   "cell_type": "code",
   "execution_count": 11,
   "metadata": {},
   "outputs": [
    {
     "name": "stdout",
     "output_type": "stream",
     "text": [
      "[(0, 0), (0, 1), (0, 2), (1, 0), (1, 1), (1, 2), (2, 0), (2, 1), (2, 2), (3, 0), (3, 1), (3, 2)]\n"
     ]
    }
   ],
   "source": [
    "pairs = [(x, y) for x in range(4) for y in range(3)]\n",
    "print(pairs)\n",
    "pairs2=[]\n"
   ]
  },
  {
   "cell_type": "code",
   "execution_count": 12,
   "metadata": {},
   "outputs": [
    {
     "name": "stdout",
     "output_type": "stream",
     "text": [
      "['even', 'odd', 'even', 'odd', 'even', 'odd', 'even', 'odd', 'even', 'odd']\n"
     ]
    }
   ],
   "source": [
    "parity = [\"even\" if x % 2 == 0 else \"odd\" for x in range(10)]\n",
    "print(parity)\n",
    " # Output: ['even', 'odd', 'even', 'odd', 'even', 'odd','even', 'odd', 'even', 'odd']"
   ]
  },
  {
   "cell_type": "code",
   "execution_count": 13,
   "metadata": {},
   "outputs": [
    {
     "name": "stdout",
     "output_type": "stream",
     "text": [
      "[1, 2, 3, 4, 5, 6, 7, 8]\n"
     ]
    }
   ],
   "source": [
    "nested_list = [[1, 2, 3], [4, 5], [6, 7, 8]]\n",
    "flattened = [item for sublist in nested_list for item in sublist]\n",
    "print(flattened)\n",
    " # Output: [1, 2, 3, 4, 5, 6, 7, 8]"
   ]
  },
  {
   "cell_type": "code",
   "execution_count": 15,
   "metadata": {},
   "outputs": [
    {
     "ename": "TypeError",
     "evalue": "'<' not supported between instances of 'list' and 'int'",
     "output_type": "error",
     "traceback": [
      "\u001b[1;31m---------------------------------------------------------------------------\u001b[0m",
      "\u001b[1;31mTypeError\u001b[0m                                 Traceback (most recent call last)",
      "Cell \u001b[1;32mIn[15], line 2\u001b[0m\n\u001b[0;32m      1\u001b[0m transactions \u001b[38;5;241m=\u001b[39m [\u001b[38;5;241m300\u001b[39m, \u001b[38;5;241m700\u001b[39m, \u001b[38;5;241m250\u001b[39m, \u001b[38;5;241m500\u001b[39m, \u001b[38;5;241m900\u001b[39m]\n\u001b[1;32m----> 2\u001b[0m filtered \u001b[38;5;241m=\u001b[39m [transactions \u001b[38;5;28;01mfor\u001b[39;00m filteredtxn \u001b[38;5;129;01min\u001b[39;00m transactions \u001b[38;5;28;01mif\u001b[39;00m \u001b[43mtransactions\u001b[49m\u001b[38;5;241;43m<\u001b[39;49m\u001b[38;5;241;43m500\u001b[39;49m\u001b[38;5;241;43m==\u001b[39;49m\u001b[38;5;241;43m0\u001b[39;49m]\n\u001b[0;32m      3\u001b[0m \u001b[38;5;28mprint\u001b[39m(filtered)\n",
      "\u001b[1;31mTypeError\u001b[0m: '<' not supported between instances of 'list' and 'int'"
     ]
    }
   ],
   "source": [
    "transactions = [300, 700, 250, 500, 900]\n",
    "filtered = [amount for filteredtxn in transactions if transactions<500==0]\n",
    "print(filtered)"
   ]
  },
  {
   "cell_type": "code",
   "execution_count": 17,
   "metadata": {},
   "outputs": [
    {
     "name": "stdout",
     "output_type": "stream",
     "text": [
      "Alice's average score: 90.00\n",
      "Bob's average score: 84.33\n",
      "Charlie's average score: 86.67\n"
     ]
    }
   ],
   "source": [
    "# Dictionary with students and their scores in various subjects\n",
    "student_scores = {\n",
    "    \"Alice\": {\"math\": 95, \"science\": 90, \"history\": 85},\n",
    "    \"Bob\": {\"math\": 80, \"science\": 85, \"history\": 88},\n",
    "    \"Charlie\": {\"math\": 92, \"science\": 78, \"history\": 90}\n",
    "}\n",
    "\n",
    "# Calculate and print the average score for each student\n",
    "for student, subjects in student_scores.items():\n",
    "    total_score = sum(subjects.values())  # Sum of all subject scores\n",
    "    num_subjects = len(subjects)          # Number of subjects\n",
    "    average_score = total_score / num_subjects\n",
    "    print(f\"{student}'s average score: {average_score:.2f}\")\n"
   ]
  }
 ],
 "metadata": {
  "kernelspec": {
   "display_name": "Python 3",
   "language": "python",
   "name": "python3"
  },
  "language_info": {
   "codemirror_mode": {
    "name": "ipython",
    "version": 3
   },
   "file_extension": ".py",
   "mimetype": "text/x-python",
   "name": "python",
   "nbconvert_exporter": "python",
   "pygments_lexer": "ipython3",
   "version": "3.12.4"
  }
 },
 "nbformat": 4,
 "nbformat_minor": 2
}

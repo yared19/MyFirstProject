{
 "cells": [
  {
   "cell_type": "code",
   "execution_count": 2,
   "metadata": {},
   "outputs": [
    {
     "name": "stdout",
     "output_type": "stream",
     "text": [
      "The first fruit is : apple\n",
      "The last fruit is : orange\n"
     ]
    }
   ],
   "source": [
    " # Creating a list\n",
    "fruits = [\"apple\", \"banana\", \"cherry\"]\n",
    " # Adding elements\n",
    "fruits.append(\"orange\")  # Adds \"orange\" to the end of the list\n",
    " # Adds \"orange\" to the end of the\n",
    "fruits.insert(1, \"kiwi\") # Inserts \"kiwi\" at index 1\n",
    "# Accessing elements\n",
    "first_fruit = fruits[0] # \"apple\"\n",
    "last_fruit = fruits[-1] # \"cherry\" (negative indexing)\n",
    "\n",
    "print(\"The first fruit is :\",first_fruit)\n",
    "print(\"The last fruit is :\",last_fruit)"
   ]
  },
  {
   "cell_type": "code",
   "execution_count": null,
   "metadata": {},
   "outputs": [],
   "source": []
  }
 ],
 "metadata": {
  "kernelspec": {
   "display_name": "Python 3",
   "language": "python",
   "name": "python3"
  },
  "language_info": {
   "codemirror_mode": {
    "name": "ipython",
    "version": 3
   },
   "file_extension": ".py",
   "mimetype": "text/x-python",
   "name": "python",
   "nbconvert_exporter": "python",
   "pygments_lexer": "ipython3",
   "version": "3.12.4"
  }
 },
 "nbformat": 4,
 "nbformat_minor": 2
}

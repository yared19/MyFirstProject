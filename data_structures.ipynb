{
 "cells": [
  {
   "cell_type": "code",
   "execution_count": 2,
   "metadata": {},
   "outputs": [
    {
     "name": "stdout",
     "output_type": "stream",
     "text": [
      "The first fruit is : apple\n",
      "The last fruit is : orange\n"
     ]
    }
   ],
   "source": [
    " # Creating a list\n",
    "fruits = [\"apple\", \"banana\", \"cherry\"]\n",
    " # Adding elements\n",
    "fruits.append(\"orange\")  # Adds \"orange\" to the end of the list\n",
    " # Adds \"orange\" to the end of the\n",
    "fruits.insert(1, \"kiwi\") # Inserts \"kiwi\" at index 1\n",
    "# Accessing elements\n",
    "first_fruit = fruits[0] # \"apple\"\n",
    "last_fruit = fruits[-1] # \"cherry\" (negative indexing)\n",
    "\n",
    "print(\"The first fruit is :\",first_fruit)\n",
    "print(\"The last fruit is :\",last_fruit)"
   ]
  },
  {
   "cell_type": "code",
   "execution_count": 6,
   "metadata": {},
   "outputs": [
    {
     "name": "stdout",
     "output_type": "stream",
     "text": [
      "[0, 4, 16, 36, 64, 100, 144, 196, 256, 324]\n"
     ]
    }
   ],
   "source": [
    "#list comprehensions\n",
    "squares = [x**2 for x in range(20) if x%2==0]\n",
    "print(squares)\n",
    " # Output: [0, 1, 4, 9, 16, 25, 36, 49, 64, 81]"
   ]
  },
  {
   "cell_type": "code",
   "execution_count": 7,
   "metadata": {},
   "outputs": [
    {
     "name": "stdout",
     "output_type": "stream",
     "text": [
      "['HELLO', 'WORLD', 'PYTHON']\n"
     ]
    }
   ],
   "source": [
    "words = [\"hello\", \"world\", \"python\"]\n",
    "uppercased = [word.upper() for word in words]\n",
    " # Output: ['HELLO', 'WORLD', 'PYTHON']\n",
    "print(uppercased)"
   ]
  },
  {
   "cell_type": "code",
   "execution_count": 11,
   "metadata": {},
   "outputs": [
    {
     "name": "stdout",
     "output_type": "stream",
     "text": [
      "[(0, 0), (0, 1), (0, 2), (1, 0), (1, 1), (1, 2), (2, 0), (2, 1), (2, 2), (3, 0), (3, 1), (3, 2)]\n"
     ]
    }
   ],
   "source": [
    "pairs = [(x, y) for x in range(4) for y in range(3)]\n",
    "print(pairs)\n",
    "pairs2=[]\n",
    "for "
   ]
  },
  {
   "cell_type": "code",
   "execution_count": 12,
   "metadata": {},
   "outputs": [
    {
     "name": "stdout",
     "output_type": "stream",
     "text": [
      "['even', 'odd', 'even', 'odd', 'even', 'odd', 'even', 'odd', 'even', 'odd']\n"
     ]
    }
   ],
   "source": [
    "parity = [\"even\" if x % 2 == 0 else \"odd\" for x in range(10)]\n",
    "print(parity)\n",
    " # Output: ['even', 'odd', 'even', 'odd', 'even', 'odd','even', 'odd', 'even', 'odd']"
   ]
  },
  {
   "cell_type": "code",
   "execution_count": 13,
   "metadata": {},
   "outputs": [
    {
     "name": "stdout",
     "output_type": "stream",
     "text": [
      "[1, 2, 3, 4, 5, 6, 7, 8]\n"
     ]
    }
   ],
   "source": [
    "nested_list = [[1, 2, 3], [4, 5], [6, 7, 8]]\n",
    "flattened = [item for sublist in nested_list for item in sublist]\n",
    "print(flattened)\n",
    " # Output: [1, 2, 3, 4, 5, 6, 7, 8]"
   ]
  }
 ],
 "metadata": {
  "kernelspec": {
   "display_name": "Python 3",
   "language": "python",
   "name": "python3"
  },
  "language_info": {
   "codemirror_mode": {
    "name": "ipython",
    "version": 3
   },
   "file_extension": ".py",
   "mimetype": "text/x-python",
   "name": "python",
   "nbconvert_exporter": "python",
   "pygments_lexer": "ipython3",
   "version": "3.12.4"
  }
 },
 "nbformat": 4,
 "nbformat_minor": 2
}

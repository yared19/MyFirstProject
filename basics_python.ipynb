{
 "cells": [
  {
   "cell_type": "code",
   "execution_count": 1,
   "metadata": {},
   "outputs": [
    {
     "name": "stdout",
     "output_type": "stream",
     "text": [
      "The total amount after 5 years is: 12833.59\n"
     ]
    }
   ],
   "source": [
    " # Compound Interest Calculation\n",
    "P = 10000 # principal amount\n",
    "r = 0.05 # interest rate\n",
    "n = 12\n",
    " # compounding monthly\n",
    "t = 5\n",
    " # time in years\n",
    "A = P * (1 + r / n)**(n * t)\n",
    "print(f\"The total amount after {t} years is: {A:.2f}\")"
   ]
  },
  {
   "cell_type": "code",
   "execution_count": 2,
   "metadata": {},
   "outputs": [
    {
     "name": "stdout",
     "output_type": "stream",
     "text": [
      "Monthly mortgage payment: 1193.54\n"
     ]
    }
   ],
   "source": [
    "def calculate_mortgage(principal, rate, term):\n",
    "    monthly_rate = rate / 12\n",
    "    months = term * 12\n",
    "    monthly_payment = principal * (monthly_rate * (1 + monthly_rate) ** months) / ((1 + monthly_rate) ** months- 1)\n",
    "    return monthly_payment\n",
    "payment = calculate_mortgage(250000, 0.04, 30)\n",
    "print(\"Monthly mortgage payment:\", round(payment, 2))"
   ]
  },
  {
   "cell_type": "code",
   "execution_count": 3,
   "metadata": {},
   "outputs": [
    {
     "name": "stdout",
     "output_type": "stream",
     "text": [
      "Loan application status: Approved\n"
     ]
    }
   ],
   "source": [
    "def validate_loan_application(income, credit_score):\n",
    "    if income > 40000 and credit_score >= 700:\n",
    "        return \"Approved\"\n",
    "    return \"Not Approved\"\n",
    "result = validate_loan_application(45000, 720)\n",
    "print(\"Loan application status:\", result)"
   ]
  },
  {
   "cell_type": "code",
   "execution_count": 5,
   "metadata": {},
   "outputs": [
    {
     "name": "stdout",
     "output_type": "stream",
     "text": [
      "Is Fraudelent Txn: Yes\n"
     ]
    }
   ],
   "source": [
    "def validate_Transaction(txn_amt):\n",
    "    if txn_amt > 1000:\n",
    "        return \"No\"\n",
    "    return \"Yes\"\n",
    "result = validate_Transaction(700)\n",
    "print(\"Is Fraudelent Txn:\", result)"
   ]
  }
 ],
 "metadata": {
  "kernelspec": {
   "display_name": "Python 3",
   "language": "python",
   "name": "python3"
  },
  "language_info": {
   "codemirror_mode": {
    "name": "ipython",
    "version": 3
   },
   "file_extension": ".py",
   "mimetype": "text/x-python",
   "name": "python",
   "nbconvert_exporter": "python",
   "pygments_lexer": "ipython3",
   "version": "3.12.4"
  }
 },
 "nbformat": 4,
 "nbformat_minor": 2
}

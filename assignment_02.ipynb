{
 "cells": [
  {
   "cell_type": "code",
   "execution_count": 1,
   "metadata": {},
   "outputs": [
    {
     "name": "stdout",
     "output_type": "stream",
     "text": [
      "Initial Transaction DataFrame:\n",
      "    customer_id transaction_type  amount  balance\n",
      "0          101          Deposit     500      500\n",
      "1          101         Withdraw     200      300\n",
      "2          101          Deposit     300      600\n",
      "3          102          Deposit    1000     1000\n",
      "4          102         Withdraw     150      850\n",
      "5          103          Deposit     700      700\n",
      "6          103         Withdraw     100      600\n",
      "\n",
      "Withdrawals over $150:\n",
      "    customer_id transaction_type  amount  balance\n",
      "1          101         Withdraw     200      300\n",
      "\n",
      "DataFrame after adding 5% interest to balances over $800:\n",
      "    customer_id transaction_type  amount  balance\n",
      "0          101          Deposit     500    500.0\n",
      "1          101         Withdraw     200    300.0\n",
      "2          101          Deposit     300    600.0\n",
      "3          102          Deposit    1000   1050.0\n",
      "4          102         Withdraw     150    892.5\n",
      "5          103          Deposit     700    700.0\n",
      "6          103         Withdraw     100    600.0\n",
      "\n",
      "Total Deposits and Withdrawals per Account:\n",
      "              Total Deposits  Total Withdrawals\n",
      "customer_id                                   \n",
      "101                     800                200\n",
      "102                    1000                150\n",
      "103                     700                100\n"
     ]
    }
   ],
   "source": [
    "import pandas as pd\n",
    "\n",
    "# Sample Data: Customer transaction history\n",
    "data = {\n",
    "    \"customer_id\": [101, 101, 101, 102, 102, 103, 103],\n",
    "    \"transaction_type\": [\"Deposit\", \"Withdraw\", \"Deposit\", \"Deposit\", \"Withdraw\", \"Deposit\", \"Withdraw\"],\n",
    "    \"amount\": [500, 200, 300, 1000, 150, 700, 100],\n",
    "    \"balance\": [500, 300, 600, 1000, 850, 700, 600]\n",
    "}\n",
    "\n",
    "# Creating the DataFrame\n",
    "df = pd.DataFrame(data)\n",
    "\n",
    "# Displaying the DataFrame\n",
    "print(\"Initial Transactions:\\n\", df)\n",
    "\n",
    "# 1. Filtering withdrawals over a certain amount\n",
    "def filter_large_withdrawals(df, threshold):\n",
    "    return df[(df[\"transaction_type\"] == \"Withdraw\") & (df[\"amount\"] > threshold)]\n",
    "\n",
    "# Example: Find withdrawals over $150\n",
    "large_withdrawals = filter_large_withdrawals(df, 150)\n",
    "print(\"\\nWithdrawals over $150:\\n\", large_withdrawals)\n",
    "\n",
    "# 2. Adding interest to accounts with balance over a certain threshold\n",
    "def add_interest(df, threshold, interest_rate):\n",
    "    # Apply interest to balances over threshold\n",
    "    df[\"balance\"] = df.apply(\n",
    "        lambda row: row[\"balance\"] * (1 + interest_rate) if row[\"balance\"] > threshold else row[\"balance\"],\n",
    "        axis=1\n",
    "    )\n",
    "    return df\n",
    "\n",
    "# Example: Add 5% interest to balances over $800\n",
    "df_with_interest = add_interest(df, 800, 0.05)\n",
    "print(\"\\nData after adding 5% interest to balances over $800:\\n\", df_with_interest)\n",
    "\n",
    "# 3. Calculating total deposits and withdrawals per account\n",
    "def calculate_totals(df):\n",
    "    totals = df.groupby([\"customer_id\", \"transaction_type\"])[\"amount\"].sum().unstack(fill_value=0)\n",
    "    totals.columns = [\"Total Deposits\", \"Total Withdrawals\"]\n",
    "    return totals\n",
    "\n",
    "# Calculating total deposits and withdrawals per account\n",
    "totals_df = calculate_totals(df)\n",
    "print(\"\\nTotal Deposits and Withdrawals per Account:\\n\", totals_df)\n"
   ]
  }
 ],
 "metadata": {
  "kernelspec": {
   "display_name": "Python 3",
   "language": "python",
   "name": "python3"
  },
  "language_info": {
   "codemirror_mode": {
    "name": "ipython",
    "version": 3
   },
   "file_extension": ".py",
   "mimetype": "text/x-python",
   "name": "python",
   "nbconvert_exporter": "python",
   "pygments_lexer": "ipython3",
   "version": "3.12.4"
  }
 },
 "nbformat": 4,
 "nbformat_minor": 2
}

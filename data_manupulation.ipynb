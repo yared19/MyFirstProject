{
 "cells": [
  {
   "cell_type": "code",
   "execution_count": 1,
   "metadata": {},
   "outputs": [
    {
     "name": "stdout",
     "output_type": "stream",
     "text": [
      "0    1000\n",
      "1    2500\n",
      "2    4300\n",
      "3    1200\n",
      "4    5000\n",
      "Name: Account Balance, dtype: int64\n"
     ]
    }
   ],
   "source": [
    "# Importing Pandas\n",
    "import pandas as pd\n",
    "\n",
    "# Sample data\n",
    "balances = [1000, 2500, 4300, 1200, 5000]\n",
    " # Creating a Series\n",
    "balance_series = pd.Series(balances, name=\"Account Balance\")\n",
    "print(balance_series)"
   ]
  },
  {
   "cell_type": "code",
   "execution_count": 5,
   "metadata": {},
   "outputs": [
    {
     "name": "stdout",
     "output_type": "stream",
     "text": [
      "   Customer ID     Name  Account Balance Account Type\n",
      "0          101    Alice             3000      Savings\n",
      "1          102      Bob             1500     Checking\n",
      "2          103  Charlie             4000      Savings\n",
      "3          104    David              800     Checking\n",
      "   Customer ID     Name  Account Balance Account Type\n",
      "0          101    Alice             3000      Savings\n",
      "1          102      Bob             1500     Checking\n",
      "2          103  Charlie             4000      Savings\n",
      "3          104    David              800     Checking\n",
      "   Customer ID     Name  Account Balance Account Type\n",
      "0          101    Alice             3000      Savings\n",
      "2          103  Charlie             4000      Savings\n",
      "      Name  Account Balance\n",
      "0    Alice             3000\n",
      "1      Bob             1500\n",
      "2  Charlie             4000\n",
      "3    David              800\n",
      "   Customer ID     Name  Account Balance Account Type  Interest Earned\n",
      "0          101    Alice             3000      Savings            150.0\n",
      "1          102      Bob             1500     Checking             75.0\n",
      "2          103  Charlie             4000      Savings            200.0\n",
      "3          104    David              800     Checking             40.0\n",
      "   Customer ID     Name  Account Balance Account Type  Interest Earned  \\\n",
      "0          101    Alice             3000      Savings            150.0   \n",
      "1          102      Bob             1500     Checking             75.0   \n",
      "2          103  Charlie             4000      Savings            200.0   \n",
      "3          104    David              800     Checking             40.0   \n",
      "\n",
      "  Balance Status  \n",
      "0        Healthy  \n",
      "1        Healthy  \n",
      "2        Healthy  \n",
      "3    Low Balance  \n"
     ]
    }
   ],
   "source": [
    " # Sample data\n",
    "data = {\n",
    " \"Customer ID\": [101, 102, 103, 104],\n",
    " \"Name\": [\"Alice\", \"Bob\", \"Charlie\", \"David\"],\n",
    " \"Account Balance\": [3000, 1500, 4000, 800],\n",
    " \"Account Type\": [\"Savings\", \"Checking\", \"Savings\",\n",
    " \"Checking\"]\n",
    "}\n",
    "# Creating a DataFrame\n",
    "bank_df = pd.DataFrame(data)\n",
    "print(bank_df)\n",
    "\n",
    "print(bank_df.head()) # By default, shows the first 5 rows\n",
    "high_balance_customers = bank_df[bank_df[\"Account Balance\"] > 2000]\n",
    "print(high_balance_customers)\n",
    "balances_df = bank_df[[\"Name\", \"Account Balance\"]]\n",
    "print(balances_df)\n",
    "bank_df[\"Interest Earned\"] = bank_df[\"Account Balance\"] * 0.05\n",
    "print(bank_df)\n",
    "#bank_df.loc[bank_df[\"Name\"] == \"Alice\", \"Account Type\"] = \"Premium Savings\"\n",
    "#print(bank_df)\n",
    "#bank_df.drop(columns=[\"Account Type\"], inplace=True)\n",
    "#print(bank_df)\n",
    "low_balance_accounts = bank_df[bank_df[\"Account Balance\"] < 1000]\n",
    "bank_df[\"Balance Status\"] = [\"Low Balance\" if x < 1000 else \"Healthy\" for x in bank_df[\"Account Balance\"]]\n",
    "print(bank_df)"
   ]
  }
 ],
 "metadata": {
  "kernelspec": {
   "display_name": "Python 3",
   "language": "python",
   "name": "python3"
  },
  "language_info": {
   "codemirror_mode": {
    "name": "ipython",
    "version": 3
   },
   "file_extension": ".py",
   "mimetype": "text/x-python",
   "name": "python",
   "nbconvert_exporter": "python",
   "pygments_lexer": "ipython3",
   "version": "3.12.4"
  }
 },
 "nbformat": 4,
 "nbformat_minor": 2
}
